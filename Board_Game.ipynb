{
  "nbformat": 4,
  "nbformat_minor": 0,
  "metadata": {
    "colab": {
      "provenance": [],
      "authorship_tag": "ABX9TyPK3BCS8+/OJNE/5uCGe1+Z",
      "include_colab_link": true
    },
    "kernelspec": {
      "name": "python3",
      "display_name": "Python 3"
    },
    "language_info": {
      "name": "python"
    }
  },
  "cells": [
    {
      "cell_type": "markdown",
      "metadata": {
        "id": "view-in-github",
        "colab_type": "text"
      },
      "source": [
        "<a href=\"https://colab.research.google.com/github/Suthi01/Suthi01/blob/main/Board_Game.ipynb\" target=\"_parent\"><img src=\"https://colab.research.google.com/assets/colab-badge.svg\" alt=\"Open In Colab\"/></a>"
      ]
    },
    {
      "cell_type": "code",
      "execution_count": 1,
      "metadata": {
        "colab": {
          "base_uri": "https://localhost:8080/"
        },
        "id": "MJ9QzK0SmJE6",
        "outputId": "40dcf052-eda1-4d21-9fd6-3824d5cd31dd"
      },
      "outputs": [
        {
          "output_type": "stream",
          "name": "stdout",
          "text": [
            "6 6\n",
            "0 0 0 0 1 0\n",
            "0 0 1 0 0 1\n",
            "0 1 0 1 0 0\n",
            "1 1 1 0 0 0\n",
            "1 0 0 0 0 1\n",
            "1 0 0 1 1 0\n",
            "0 0\n",
            "4 4\n",
            "0 2\n",
            "4\n"
          ]
        }
      ],
      "source": [
        "from collections import deque\n",
        "\n",
        "def is_valid(x, y, M, N, grid):\n",
        "    return 0 <= x < M and 0 <= y < N and grid[x][y] == 0\n",
        "\n",
        "def bfs(grid, source, dest, move_rule, M, N):\n",
        "    # Directions: forward, right, backward, left based on rotation of move_rule\n",
        "    directions = [\n",
        "        move_rule,                         # forward\n",
        "        (move_rule[1], -move_rule[0]),     # right (90 degree rotation clockwise)\n",
        "        (-move_rule[0], -move_rule[1]),    # backward (180 degree rotation)\n",
        "        (-move_rule[1], move_rule[0])      # left (90 degree anticlockwise)\n",
        "    ]\n",
        "\n",
        "    queue = deque([(source[0], source[1], 0)])  # (x, y, distance)\n",
        "    visited = [[False] * N for _ in range(M)]   # track visited cells\n",
        "    visited[source[0]][source[1]] = True\n",
        "\n",
        "    while queue:\n",
        "        x, y, dist = queue.popleft()\n",
        "\n",
        "        # If we reached the destination\n",
        "        if (x, y) == tuple(dest):\n",
        "            return dist\n",
        "\n",
        "        # Try all 4 directions\n",
        "        for dx, dy in directions:\n",
        "            new_x, new_y = x + dx, y + dy\n",
        "\n",
        "            if is_valid(new_x, new_y, M, N, grid) and not visited[new_x][new_y]:\n",
        "                visited[new_x][new_y] = True\n",
        "                queue.append((new_x, new_y, dist + 1))\n",
        "\n",
        "    return -1  # If no path exists\n",
        "\n",
        "# Input handling\n",
        "def main():\n",
        "    M, N = map(int, input().split())  # grid dimensions\n",
        "\n",
        "    grid = []\n",
        "    for _ in range(M):\n",
        "        grid.append(list(map(int, input().split())))  # grid\n",
        "\n",
        "    source = list(map(int, input().split()))  # source coordinates\n",
        "    dest = list(map(int, input().split()))    # destination coordinates\n",
        "    move_rule = list(map(int, input().split()))  # move rule\n",
        "\n",
        "    result = bfs(grid, source, dest, move_rule, M, N)\n",
        "    print(result)\n",
        "\n",
        "# Run the main function\n",
        "if __name__ == \"__main__\":\n",
        "    main()\n"
      ]
    }
  ]
}